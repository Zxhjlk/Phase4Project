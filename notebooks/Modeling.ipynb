{
 "cells": [
  {
   "cell_type": "markdown",
   "metadata": {},
   "source": []
  },
  {
   "cell_type": "code",
   "execution_count": 69,
   "metadata": {},
   "outputs": [],
   "source": [
    "import keras\n",
    "from keras.models import Sequential\n",
    "from keras.layers import Dense, Conv2D, MaxPool2D, Flatten, Dropout, BatchNormalization, GlobalAveragePooling2D\n",
    "from keras.preprocessing.image import ImageDataGenerator\n",
    "from keras.callbacks import ModelCheckpoint, EarlyStopping, ReduceLROnPlateau\n",
    "from keras.utils import to_categorical\n",
    "from keras.applications.vgg16 import VGG16\n",
    "from keras.regularizers import L2\n",
    "import numpy as np\n",
    "import matplotlib.pyplot as plt\n",
    "import pandas as pd"
   ]
  },
  {
   "cell_type": "markdown",
   "metadata": {},
   "source": [
    "We will load all the images from the train, val, and test folders. With flow_from_directory, the images will have the labels attached so we do not need to specify the labels.\n",
    "\n",
    "I have also moved some of the train images into the val folder since there was a pretty large imbalance. There were only around 10 images in the validation set.\n",
    "\n",
    "I will also augment some of the images when we pull them in to prevent overfitting and potentially help more with the imbalance in the data"
   ]
  },
  {
   "cell_type": "code",
   "execution_count": null,
   "metadata": {},
   "outputs": [
    {
     "name": "stdout",
     "output_type": "stream",
     "text": [
      "Found 5040 images belonging to 2 classes.\n",
      "Found 192 images belonging to 2 classes.\n",
      "Found 624 images belonging to 2 classes.\n"
     ]
    }
   ],
   "source": [
    "#Change batch size depending on scenario\n",
    "b_size = 32 \n",
    "\n",
    "train_data = ImageDataGenerator(rescale=1/255, rotation_range=40, zoom_range=0.3, horizontal_flip=True,\n",
    "                                width_shift_range=0.25, height_shift_range=0.25)\n",
    "train_img = train_data.flow_from_directory(directory='../data/train', target_size=(224,224), batch_size=b_size, class_mode='binary', shuffle=True)\n",
    "#train_labels = to_categorical(train_img.labels, num_classes=2)\n",
    "\n",
    "val_data = ImageDataGenerator(rescale=1/255)\n",
    "val_img = val_data.flow_from_directory(directory='../data/val', target_size=(224, 224), batch_size=b_size, class_mode='binary', shuffle=True)\n",
    "#val_labels = to_categorical(val_img.labels, num_classes=2)\n",
    "\n",
    "test_data = ImageDataGenerator(rescale=1/255)\n",
    "test_img = test_data.flow_from_directory(directory='../data/test', target_size=(224, 224), batch_size=b_size, class_mode='binary', shuffle=True)\n",
    "#test_labels = to_categorical(test_img.labels, num_classes=2)\n",
    "print(train_img.class_indices)"
   ]
  },
  {
   "cell_type": "markdown",
   "metadata": {},
   "source": [
    "After tinkering with the data, it seems that include 'class_mode=binary' in the flow from directory function caused the model to work properly. Without it, the test accuracy and validation accuracy was exactly 0.5 for each epoch."
   ]
  },
  {
   "cell_type": "markdown",
   "metadata": {},
   "source": [
    "# Model 1\n",
    "Here we will make a pretty shallow network to see how well it will work. Despite the images looking like grayscale, they are still 3 channel(rgb)."
   ]
  },
  {
   "cell_type": "code",
   "execution_count": 130,
   "metadata": {},
   "outputs": [],
   "source": [
    "model = Sequential()\n",
    "model.add(Conv2D(filters=32, kernel_size=(3,3), activation='relu', input_shape=(224, 224, 3), groups=1))\n",
    "model.add(BatchNormalization())\n",
    "model.add(MaxPool2D(pool_size=(2,2)))\n",
    "\n",
    "model.add(Conv2D(filters=64, kernel_size=(3,3), activation='relu', groups=1))\n",
    "model.add(BatchNormalization())\n",
    "model.add(MaxPool2D(pool_size=(2,2)))\n",
    "\n",
    "model.add(Conv2D(filters=64, kernel_size=(3,3), activation='relu', groups=1))\n",
    "model.add(BatchNormalization())\n",
    "model.add(MaxPool2D(pool_size=(2,2)))\n",
    "\n",
    "model.add(Flatten())\n",
    "model.add(Dense(units=128, activation='relu'))\n",
    "model.add(Dense(units=1, activation='sigmoid'))"
   ]
  },
  {
   "cell_type": "code",
   "execution_count": 132,
   "metadata": {},
   "outputs": [
    {
     "name": "stdout",
     "output_type": "stream",
     "text": [
      "Epoch 1/10\n",
      "150/150 [==============================] - 119s 796ms/step - loss: 0.6769 - accuracy: 0.8535 - val_loss: 30.8740 - val_accuracy: 0.5000\n",
      "Epoch 2/10\n",
      "150/150 [==============================] - 119s 793ms/step - loss: 0.2652 - accuracy: 0.8850 - val_loss: 27.1030 - val_accuracy: 0.5000\n",
      "Epoch 3/10\n",
      "150/150 [==============================] - 119s 791ms/step - loss: 0.2312 - accuracy: 0.9030 - val_loss: 4.2252 - val_accuracy: 0.6250\n",
      "Epoch 4/10\n",
      "150/150 [==============================] - 118s 788ms/step - loss: 0.2039 - accuracy: 0.9128 - val_loss: 0.4310 - val_accuracy: 0.8125\n",
      "Epoch 5/10\n",
      "150/150 [==============================] - 118s 786ms/step - loss: 0.2102 - accuracy: 0.9170 - val_loss: 1.3040 - val_accuracy: 0.5677\n",
      "Epoch 6/10\n",
      "150/150 [==============================] - 118s 787ms/step - loss: 0.1841 - accuracy: 0.9268 - val_loss: 0.6230 - val_accuracy: 0.6823\n",
      "Epoch 7/10\n",
      "150/150 [==============================] - 119s 790ms/step - loss: 0.1751 - accuracy: 0.9285 - val_loss: 1.8846 - val_accuracy: 0.5104\n",
      "Epoch 8/10\n",
      "150/150 [==============================] - 118s 787ms/step - loss: 0.1694 - accuracy: 0.9291 - val_loss: 0.5223 - val_accuracy: 0.7812\n",
      "Epoch 9/10\n",
      "150/150 [==============================] - 118s 789ms/step - loss: 0.1739 - accuracy: 0.9266 - val_loss: 0.3936 - val_accuracy: 0.7812\n",
      "Epoch 10/10\n",
      "150/150 [==============================] - 118s 789ms/step - loss: 0.1606 - accuracy: 0.9362 - val_loss: 0.8195 - val_accuracy: 0.6458\n"
     ]
    }
   ],
   "source": [
    "model.compile(optimizer='adam', loss='binary_crossentropy', metrics=['accuracy'])\n",
    "model_hist = model.fit(train_img, \n",
    "                       epochs=10, \n",
    "                       validation_data=val_img, \n",
    "                       steps_per_epoch=150)"
   ]
  },
  {
   "cell_type": "markdown",
   "metadata": {},
   "source": [
    "When we evaluate on the test set, we see that the accuracy is not too great, not even 70 percent"
   ]
  },
  {
   "cell_type": "code",
   "execution_count": 133,
   "metadata": {},
   "outputs": [
    {
     "name": "stdout",
     "output_type": "stream",
     "text": [
      "20/20 [==============================] - 5s 240ms/step - loss: 0.8962 - accuracy: 0.6619\n"
     ]
    },
    {
     "data": {
      "text/plain": [
       "[0.896195650100708, 0.6618589758872986]"
      ]
     },
     "execution_count": 133,
     "metadata": {},
     "output_type": "execute_result"
    }
   ],
   "source": [
    "model.evaluate(test_img)"
   ]
  },
  {
   "cell_type": "code",
   "execution_count": 72,
   "metadata": {},
   "outputs": [
    {
     "ename": "NameError",
     "evalue": "name 'model_hist' is not defined",
     "output_type": "error",
     "traceback": [
      "\u001b[1;31m---------------------------------------------------------------------------\u001b[0m",
      "\u001b[1;31mNameError\u001b[0m                                 Traceback (most recent call last)",
      "\u001b[1;32m<ipython-input-72-655914658ff4>\u001b[0m in \u001b[0;36m<module>\u001b[1;34m\u001b[0m\n\u001b[0;32m      1\u001b[0m \u001b[0mfig\u001b[0m\u001b[1;33m,\u001b[0m \u001b[1;33m(\u001b[0m\u001b[0max1\u001b[0m\u001b[1;33m,\u001b[0m \u001b[0max2\u001b[0m\u001b[1;33m)\u001b[0m \u001b[1;33m=\u001b[0m \u001b[0mplt\u001b[0m\u001b[1;33m.\u001b[0m\u001b[0msubplots\u001b[0m\u001b[1;33m(\u001b[0m\u001b[0mncols\u001b[0m \u001b[1;33m=\u001b[0m \u001b[1;36m2\u001b[0m\u001b[1;33m,\u001b[0m \u001b[0mfigsize\u001b[0m\u001b[1;33m=\u001b[0m\u001b[1;33m(\u001b[0m\u001b[1;36m14\u001b[0m\u001b[1;33m,\u001b[0m \u001b[1;36m8\u001b[0m\u001b[1;33m)\u001b[0m\u001b[1;33m)\u001b[0m\u001b[1;33m\u001b[0m\u001b[1;33m\u001b[0m\u001b[0m\n\u001b[0;32m      2\u001b[0m \u001b[1;33m\u001b[0m\u001b[0m\n\u001b[1;32m----> 3\u001b[1;33m \u001b[0max1\u001b[0m\u001b[1;33m.\u001b[0m\u001b[0mplot\u001b[0m\u001b[1;33m(\u001b[0m\u001b[0mmodel_hist\u001b[0m\u001b[1;33m.\u001b[0m\u001b[0mhistory\u001b[0m\u001b[1;33m[\u001b[0m\u001b[1;34m'accuracy'\u001b[0m\u001b[1;33m]\u001b[0m\u001b[1;33m)\u001b[0m\u001b[1;33m\u001b[0m\u001b[1;33m\u001b[0m\u001b[0m\n\u001b[0m\u001b[0;32m      4\u001b[0m \u001b[0max1\u001b[0m\u001b[1;33m.\u001b[0m\u001b[0mplot\u001b[0m\u001b[1;33m(\u001b[0m\u001b[0mmodel_hist\u001b[0m\u001b[1;33m.\u001b[0m\u001b[0mhistory\u001b[0m\u001b[1;33m[\u001b[0m\u001b[1;34m'val_accuracy'\u001b[0m\u001b[1;33m]\u001b[0m\u001b[1;33m)\u001b[0m\u001b[1;33m\u001b[0m\u001b[1;33m\u001b[0m\u001b[0m\n\u001b[0;32m      5\u001b[0m \u001b[0max1\u001b[0m\u001b[1;33m.\u001b[0m\u001b[0mlegend\u001b[0m\u001b[1;33m(\u001b[0m\u001b[1;33m[\u001b[0m\u001b[1;34m'Accuracy'\u001b[0m\u001b[1;33m,\u001b[0m \u001b[1;34m'Val Accuracy'\u001b[0m\u001b[1;33m]\u001b[0m\u001b[1;33m)\u001b[0m\u001b[1;33m\u001b[0m\u001b[1;33m\u001b[0m\u001b[0m\n",
      "\u001b[1;31mNameError\u001b[0m: name 'model_hist' is not defined"
     ]
    },
    {
     "data": {
      "image/png": "[encoded data removed]",
      "text/plain": [
       "<Figure size 1008x576 with 2 Axes>"
      ]
     },
     "metadata": {
      "needs_background": "light"
     },
     "output_type": "display_data"
    }
   ],
   "source": [
    "fig, (ax1, ax2) = plt.subplots(ncols = 2, figsize=(14, 8))\n",
    "\n",
    "ax1.plot(model_hist.history['accuracy'])\n",
    "ax1.plot(model_hist.history['val_accuracy'])\n",
    "ax1.legend(['Accuracy', 'Val Accuracy'])\n",
    "ax1.set_title('Model Accuracy')\n",
    "ax1.set_ylabel('Accuracy')\n",
    "ax1.set_xlabel('Epoch')\n",
    "\n",
    "ax2.plot(model_hist.history['loss'])\n",
    "ax2.plot(model_hist.history['val_loss'])\n",
    "ax2.legend(['Loss', 'Val Loss'])\n",
    "ax2.set_title('Model Loss')\n",
    "ax2.set_ylabel('Loss')\n",
    "ax2.set_xlabel('Epoch');"
   ]
  },
  {
   "cell_type": "markdown",
   "metadata": {},
   "source": [
    "With this network, we can see that the model is not generalizing very well. While the test accuracy is pretty ok, the validation accuracy is very sporadic and also not matching the test accuracy, so it is overfitting.\n"
   ]
  },
  {
   "cell_type": "markdown",
   "metadata": {},
   "source": [
    "# Model 2\n",
    "We see from the graphs that the model is very sporadic. We will try to fix this and improve the test accuracy by adding deeper layers. We will also bath normalize and add dropout to the layers.\n",
    "The data augmentation will be altered slightly to see if performance is any better."
   ]
  },
  {
   "cell_type": "code",
   "execution_count": null,
   "metadata": {},
   "outputs": [],
   "source": [
    "#Change batch size depending on scenario\n",
    "b_size = 32 \n",
    "\n",
    "train_data = ImageDataGenerator(rescale=1/255, rotation_range=30, zoom_range=0.2, horizontal_flip=True,\n",
    "                                width_shift_range=0.2, height_shift_range=0.2)\n",
    "train_img = train_data.flow_from_directory(directory='../data/train', target_size=(224,224), batch_size=b_size, class_mode='binary', shuffle=True)\n",
    "\n",
    "val_data = ImageDataGenerator(rescale=1/255)\n",
    "val_img = val_data.flow_from_directory(directory='../data/val', target_size=(224, 224), batch_size=b_size, class_mode='binary', shuffle=True)\n",
    "\n",
    "test_data = ImageDataGenerator(rescale=1/255)\n",
    "test_img = test_data.flow_from_directory(directory='../data/test', target_size=(224, 224), batch_size=b_size, class_mode='binary', shuffle=True)"
   ]
  },
  {
   "cell_type": "code",
   "execution_count": 135,
   "metadata": {},
   "outputs": [],
   "source": [
    "model2 = Sequential()\n",
    "model2.add(Conv2D(filters=32, kernel_size=(3,3), activation='relu', input_shape=(224, 224, 3), groups=1))\n",
    "model2.add(BatchNormalization())\n",
    "model2.add(MaxPool2D(pool_size=(2,2), strides=(2,2)))\n",
    "\n",
    "model2.add(Conv2D(filters=64, kernel_size=(3,3), activation='relu', groups=1))\n",
    "model2.add(Dropout(0.2))\n",
    "model2.add(BatchNormalization())\n",
    "model2.add(MaxPool2D(pool_size=(2,2), strides=(2,2)))\n",
    "\n",
    "model2.add(Conv2D(filters=128, kernel_size=(3,3), activation='relu', groups=1))\n",
    "model2.add(Dropout(0.2))\n",
    "model2.add(BatchNormalization())\n",
    "model2.add(MaxPool2D(pool_size=(2,2), strides=(2,2)))\n",
    "\n",
    "model2.add(Conv2D(filters=256, kernel_size=(3,3), activation='relu', groups=1))\n",
    "model2.add(Dropout(0.2))\n",
    "model2.add(BatchNormalization())\n",
    "model2.add(MaxPool2D(pool_size=(2,2), strides=(2,2)))\n",
    "\n",
    "model2.add(Flatten())\n",
    "model2.add(Dense(units=128, activation='relu'))\n",
    "model2.add(Dropout(0.4))\n",
    "model2.add(Dense(units=1, activation='sigmoid'))"
   ]
  },
  {
   "cell_type": "code",
   "execution_count": 136,
   "metadata": {},
   "outputs": [
    {
     "name": "stdout",
     "output_type": "stream",
     "text": [
      "Model: \"sequential_31\"\n",
      "_________________________________________________________________\n",
      "Layer (type)                 Output Shape              Param #   \n",
      "=================================================================\n",
      "conv2d_126 (Conv2D)          (None, 222, 222, 32)      896       \n",
      "_________________________________________________________________\n",
      "batch_normalization_37 (Batc (None, 222, 222, 32)      128       \n",
      "_________________________________________________________________\n",
      "max_pooling2d_79 (MaxPooling (None, 111, 111, 32)      0         \n",
      "_________________________________________________________________\n",
      "conv2d_127 (Conv2D)          (None, 109, 109, 64)      18496     \n",
      "_________________________________________________________________\n",
      "dropout_21 (Dropout)         (None, 109, 109, 64)      0         \n",
      "_________________________________________________________________\n",
      "batch_normalization_38 (Batc (None, 109, 109, 64)      256       \n",
      "_________________________________________________________________\n",
      "max_pooling2d_80 (MaxPooling (None, 54, 54, 64)        0         \n",
      "_________________________________________________________________\n",
      "conv2d_128 (Conv2D)          (None, 52, 52, 128)       73856     \n",
      "_________________________________________________________________\n",
      "dropout_22 (Dropout)         (None, 52, 52, 128)       0         \n",
      "_________________________________________________________________\n",
      "batch_normalization_39 (Batc (None, 52, 52, 128)       512       \n",
      "_________________________________________________________________\n",
      "max_pooling2d_81 (MaxPooling (None, 26, 26, 128)       0         \n",
      "_________________________________________________________________\n",
      "conv2d_129 (Conv2D)          (None, 24, 24, 256)       295168    \n",
      "_________________________________________________________________\n",
      "dropout_23 (Dropout)         (None, 24, 24, 256)       0         \n",
      "_________________________________________________________________\n",
      "batch_normalization_40 (Batc (None, 24, 24, 256)       1024      \n",
      "_________________________________________________________________\n",
      "max_pooling2d_82 (MaxPooling (None, 12, 12, 256)       0         \n",
      "_________________________________________________________________\n",
      "flatten_27 (Flatten)         (None, 36864)             0         \n",
      "_________________________________________________________________\n",
      "dense_66 (Dense)             (None, 128)               4718720   \n",
      "_________________________________________________________________\n",
      "dropout_24 (Dropout)         (None, 128)               0         \n",
      "_________________________________________________________________\n",
      "dense_67 (Dense)             (None, 1)                 129       \n",
      "=================================================================\n",
      "Total params: 5,109,185\n",
      "Trainable params: 5,108,225\n",
      "Non-trainable params: 960\n",
      "_________________________________________________________________\n"
     ]
    }
   ],
   "source": [
    "model2.summary()"
   ]
  },
  {
   "cell_type": "markdown",
   "metadata": {},
   "source": [
    "We will monitor the accuracy and decrease learning rate if the accuracy plateaus"
   ]
  },
  {
   "cell_type": "code",
   "execution_count": 137,
   "metadata": {},
   "outputs": [
    {
     "name": "stdout",
     "output_type": "stream",
     "text": [
      "Epoch 1/10\n",
      "150/150 [==============================] - 161s 1s/step - loss: 0.3385 - accuracy: 0.8424 - val_loss: 10.7092 - val_accuracy: 0.5000\n",
      "Epoch 2/10\n",
      "150/150 [==============================] - 159s 1s/step - loss: 0.2479 - accuracy: 0.8871 - val_loss: 19.7878 - val_accuracy: 0.5000\n",
      "Epoch 3/10\n",
      "150/150 [==============================] - 159s 1s/step - loss: 0.2249 - accuracy: 0.9076 - val_loss: 14.2776 - val_accuracy: 0.5000\n",
      "Epoch 4/10\n",
      "150/150 [==============================] - 159s 1s/step - loss: 0.1881 - accuracy: 0.9231 - val_loss: 4.3011 - val_accuracy: 0.5000\n",
      "Epoch 5/10\n",
      "150/150 [==============================] - 160s 1s/step - loss: 0.1923 - accuracy: 0.9252 - val_loss: 0.7220 - val_accuracy: 0.7656\n",
      "Epoch 6/10\n",
      "150/150 [==============================] - 160s 1s/step - loss: 0.1806 - accuracy: 0.9287 - val_loss: 0.3871 - val_accuracy: 0.8802\n",
      "Epoch 7/10\n",
      "150/150 [==============================] - 160s 1s/step - loss: 0.1737 - accuracy: 0.9327 - val_loss: 0.2991 - val_accuracy: 0.8906\n",
      "Epoch 8/10\n",
      "150/150 [==============================] - 160s 1s/step - loss: 0.1608 - accuracy: 0.9388 - val_loss: 0.2598 - val_accuracy: 0.8854\n",
      "Epoch 9/10\n",
      "150/150 [==============================] - 160s 1s/step - loss: 0.1647 - accuracy: 0.9344 - val_loss: 0.3861 - val_accuracy: 0.8958\n",
      "Epoch 10/10\n",
      "150/150 [==============================] - 160s 1s/step - loss: 0.1609 - accuracy: 0.9413 - val_loss: 0.2654 - val_accuracy: 0.8906\n"
     ]
    }
   ],
   "source": [
    "optimizer = keras.optimizers.Adam(lr=0.0001)\n",
    "reduce_lr = ReduceLROnPlateau(monitor='val_accuracy', factor=0.2, patience=2, min_lr=0.000001)\n",
    "early_stop = EarlyStopping(monitor='val_accuracy', patience=10)\n",
    "\n",
    "model2.compile(optimizer, loss='binary_crossentropy', metrics=['accuracy'])\n",
    "model2_hist = model2.fit(train_img, epochs=10, validation_data=val_img, steps_per_epoch=150, callbacks=[reduce_lr, early_stop])"
   ]
  },
  {
   "cell_type": "code",
   "execution_count": 139,
   "metadata": {},
   "outputs": [
    {
     "name": "stdout",
     "output_type": "stream",
     "text": [
      "20/20 [==============================] - 5s 256ms/step - loss: 0.5119 - accuracy: 0.8574\n"
     ]
    },
    {
     "data": {
      "text/plain": [
       "[0.5119263529777527, 0.8573718070983887]"
      ]
     },
     "execution_count": 139,
     "metadata": {},
     "output_type": "execute_result"
    }
   ],
   "source": [
    "model2.evaluate(test_img)"
   ]
  },
  {
   "cell_type": "markdown",
   "metadata": {},
   "source": [
    "Here we can see that the model has improved in accuracy a fair amount, but still lacking. We can plot and see how it performed over the epochs."
   ]
  },
  {
   "cell_type": "code",
   "execution_count": 140,
   "metadata": {},
   "outputs": [
    {
     "data": {
      "text/plain": [
       "Text(0.5, 1.0, 'Model Loss')"
      ]
     },
     "execution_count": 140,
     "metadata": {},
     "output_type": "execute_result"
    },
    {
     "data": {
      "image/png": "[encoded data removed]",
      "text/plain": [
       "<Figure size 1008x576 with 2 Axes>"
      ]
     },
     "metadata": {
      "needs_background": "light"
     },
     "output_type": "display_data"
    }
   ],
   "source": [
    "fig, (ax1, ax2) = plt.subplots(ncols=2, figsize=(14, 8))\n",
    "ax1.plot(model2_hist.history['accuracy'])\n",
    "ax1.plot(model2_hist.history['val_accuracy'])\n",
    "ax1.set_ylabel('Accuracy')\n",
    "ax1.set_xlabel('Epochs')\n",
    "ax1.legend(['Accuracy', 'Val Accuracy'])\n",
    "ax1.set_title('Model Accuracy')\n",
    "\n",
    "ax2.plot(model2_hist.history['loss'])\n",
    "ax2.plot(model2_hist.history['val_loss'])\n",
    "ax2.set_ylabel('Loss')\n",
    "ax2.set_xlabel('Epochs')\n",
    "ax2.legend(['Loss', 'Val Loss'])\n",
    "ax2.set_title('Model Loss')"
   ]
  },
  {
   "cell_type": "markdown",
   "metadata": {},
   "source": [
    "# Model 3\n",
    "While the performance has increased, we can see there is still some overfitting. It is also not quite clear why the validation accuracy is stagnant for the first 3 epochs, and the validation loss skyrockets during the first 1-2 epochs. \n",
    "\n",
    "What I will try next is to add more regularization and more data augmentation to help with overfitting."
   ]
  },
  {
   "cell_type": "code",
   "execution_count": 66,
   "metadata": {},
   "outputs": [
    {
     "name": "stdout",
     "output_type": "stream",
     "text": [
      "Found 5040 images belonging to 2 classes.\n",
      "Found 192 images belonging to 2 classes.\n",
      "Found 624 images belonging to 2 classes.\n"
     ]
    }
   ],
   "source": [
    "#Change batch size depending on scenario\n",
    "b_size =  16\n",
    "\n",
    "train_data = ImageDataGenerator(rescale=1/255, rotation_range=30, zoom_range=0.2, horizontal_flip=True,\n",
    "                                width_shift_range=0.15, height_shift_range=0.15)\n",
    "train_img = train_data.flow_from_directory(directory='../data/train', target_size=(150,150), batch_size=b_size, class_mode='binary', shuffle=True)\n",
    "\n",
    "val_data = ImageDataGenerator(rescale=1/255)\n",
    "val_img = val_data.flow_from_directory(directory='../data/val', target_size=(150, 150), batch_size=b_size, class_mode='binary', shuffle=True)\n",
    "\n",
    "test_data = ImageDataGenerator(rescale=1/255)\n",
    "test_img = test_data.flow_from_directory(directory='../data/test', target_size=(150, 150), batch_size=b_size, class_mode='binary', shuffle=True)"
   ]
  },
  {
   "cell_type": "markdown",
   "metadata": {},
   "source": [
    "# Test model"
   ]
  },
  {
   "cell_type": "code",
   "execution_count": null,
   "metadata": {},
   "outputs": [],
   "source": [
    "modelt = Sequential()\n",
    "modelt.add(Conv2D(32 , (3,3) , strides = 1 , padding = 'same' , activation = 'relu' , input_shape = (150,150,3)))\n",
    "modelt.add(BatchNormalization())\n",
    "modelt.add(MaxPool2D((2,2) , strides = 2 , padding = 'same'))\n",
    "\n",
    "modelt.add(Conv2D(64 , (3,3) , strides = 1 , padding = 'same' , activation = 'relu'))\n",
    "modelt.add(Dropout(0.1))\n",
    "modelt.add(BatchNormalization())\n",
    "modelt.add(MaxPool2D((2,2) , strides = 2 , padding = 'same'))\n",
    "\n",
    "modelt.add(Conv2D(64 , (3,3) , strides = 1 , padding = 'same' , activation = 'relu'))\n",
    "modelt.add(BatchNormalization())\n",
    "modelt.add(MaxPool2D((2,2) , strides = 2 , padding = 'same'))\n",
    "\n",
    "modelt.add(Conv2D(128 , (3,3) , strides = 1 , padding = 'same' , activation = 'relu'))\n",
    "modelt.add(Dropout(0.2))\n",
    "modelt.add(BatchNormalization())\n",
    "modelt.add(MaxPool2D((2,2) , strides = 2 , padding = 'same'))\n",
    "\n",
    "modelt.add(Conv2D(256 , (3,3) , strides = 1 , padding = 'same' , activation = 'relu'))\n",
    "modelt.add(Dropout(0.2))\n",
    "modelt.add(BatchNormalization())\n",
    "modelt.add(MaxPool2D((2,2) , strides = 2 , padding = 'same'))\n",
    "\n",
    "modelt.add(Flatten())\n",
    "modelt.add(Dense(units = 128 , activation = 'relu'))\n",
    "modelt.add(Dropout(0.2))\n",
    "modelt.add(Dense(units = 1 , activation = 'sigmoid'))"
   ]
  },
  {
   "cell_type": "code",
   "execution_count": 57,
   "metadata": {},
   "outputs": [
    {
     "name": "stdout",
     "output_type": "stream",
     "text": [
      "Epoch 1/10\n",
      "315/315 [==============================] - 120s 382ms/step - loss: 0.5140 - accuracy: 0.8369 - val_loss: 36.1730 - val_accuracy: 0.5000\n",
      "Epoch 2/10\n",
      "315/315 [==============================] - 117s 371ms/step - loss: 0.3067 - accuracy: 0.8871 - val_loss: 1.1314 - val_accuracy: 0.6823\n",
      "Epoch 3/10\n",
      "315/315 [==============================] - 105s 332ms/step - loss: 0.2619 - accuracy: 0.9111 - val_loss: 0.5133 - val_accuracy: 0.7760\n",
      "Epoch 4/10\n",
      "315/315 [==============================] - 107s 338ms/step - loss: 0.2558 - accuracy: 0.9103 - val_loss: 0.2758 - val_accuracy: 0.9219\n",
      "Epoch 5/10\n",
      "315/315 [==============================] - ETA: 0s - loss: 0.2486 - accuracy: 0.9212\n",
      "Epoch 00005: ReduceLROnPlateau reducing learning rate to 0.00010000000474974513.\n",
      "315/315 [==============================] - 136s 433ms/step - loss: 0.2486 - accuracy: 0.9212 - val_loss: 0.5807 - val_accuracy: 0.8073\n",
      "Epoch 6/10\n",
      "315/315 [==============================] - ETA: 0s - loss: 0.1523 - accuracy: 0.9409\n",
      "Epoch 00006: ReduceLROnPlateau reducing learning rate to 1.0000000474974514e-05.\n",
      "315/315 [==============================] - 131s 417ms/step - loss: 0.1523 - accuracy: 0.9409 - val_loss: 0.1821 - val_accuracy: 0.9062\n",
      "Epoch 7/10\n",
      "315/315 [==============================] - ETA: 0s - loss: 0.1447 - accuracy: 0.9534\n",
      "Epoch 00007: ReduceLROnPlateau reducing learning rate to 1.0000000656873453e-06.\n",
      "315/315 [==============================] - 106s 335ms/step - loss: 0.1447 - accuracy: 0.9534 - val_loss: 0.1701 - val_accuracy: 0.9115\n",
      "Epoch 8/10\n",
      "315/315 [==============================] - ETA: 0s - loss: 0.1367 - accuracy: 0.9550\n",
      "Epoch 00008: ReduceLROnPlateau reducing learning rate to 1e-06.\n",
      "315/315 [==============================] - 105s 334ms/step - loss: 0.1367 - accuracy: 0.9550 - val_loss: 0.1713 - val_accuracy: 0.9062\n",
      "Epoch 9/10\n",
      "315/315 [==============================] - 106s 335ms/step - loss: 0.1370 - accuracy: 0.9554 - val_loss: 0.1709 - val_accuracy: 0.9167\n",
      "Epoch 10/10\n",
      "315/315 [==============================] - 107s 340ms/step - loss: 0.1384 - accuracy: 0.9526 - val_loss: 0.1699 - val_accuracy: 0.9115\n"
     ]
    }
   ],
   "source": [
    "reduce_lr = ReduceLROnPlateau(monitor='val_accuracy', factor=0.1, patience=1, min_lr=0.000001, verbose=1)\n",
    "early_stop = EarlyStopping(monitor='val_loss', patience=3, verbose=1)\n",
    "\n",
    "modelt.compile(optimizer='rmsprop', loss='binary_crossentropy', metrics=['accuracy'])\n",
    "modelt_hist = modelt.fit(train_img, epochs=10, validation_data=val_img, steps_per_epoch= 5040/b_size, callbacks=[reduce_lr, early_stop])"
   ]
  },
  {
   "cell_type": "code",
   "execution_count": 58,
   "metadata": {},
   "outputs": [
    {
     "name": "stdout",
     "output_type": "stream",
     "text": [
      "39/39 [==============================] - 6s 144ms/step - loss: 0.3441 - accuracy: 0.9087\n"
     ]
    },
    {
     "data": {
      "text/plain": [
       "[0.3441269099712372, 0.9086538553237915]"
      ]
     },
     "execution_count": 58,
     "metadata": {},
     "output_type": "execute_result"
    }
   ],
   "source": [
    "modelt.evaluate(test_img)"
   ]
  },
  {
   "cell_type": "code",
   "execution_count": 60,
   "metadata": {},
   "outputs": [
    {
     "data": {
      "text/plain": [
       "Text(0.5, 1.0, 'Model Loss')"
      ]
     },
     "execution_count": 60,
     "metadata": {},
     "output_type": "execute_result"
    },
    {
     "data": {
      "image/png": "[encoded data removed]",
      "text/plain": [
       "<Figure size 1008x576 with 2 Axes>"
      ]
     },
     "metadata": {
      "needs_background": "light"
     },
     "output_type": "display_data"
    }
   ],
   "source": [
    "fig, (ax1, ax2) = plt.subplots(ncols=2, figsize=(14, 8))\n",
    "ax1.plot(modelt_hist.history['accuracy'])\n",
    "ax1.plot(modelt_hist.history['val_accuracy'])\n",
    "ax1.set_ylabel('Accuracy')\n",
    "ax1.set_xlabel('Epochs')\n",
    "ax1.legend(['Accuracy', 'Val Accuracy'])\n",
    "ax1.set_title('Model Accuracy')\n",
    "\n",
    "ax2.plot(modelt_hist.history['loss'])\n",
    "ax2.plot(modelt_hist.history['val_loss'])\n",
    "ax2.set_ylabel('Loss')\n",
    "ax2.set_xlabel('Epochs')\n",
    "ax2.legend(['Loss', 'Val Loss'])\n",
    "ax2.set_title('Model Loss')"
   ]
  },
  {
   "cell_type": "markdown",
   "metadata": {},
   "source": [
    "# Real Model"
   ]
  },
  {
   "cell_type": "code",
   "execution_count": 70,
   "metadata": {},
   "outputs": [],
   "source": [
    "model3 = Sequential()\n",
    "model3.add(Conv2D(filters=32, kernel_size=(3,3), activation='relu', input_shape=(150, 150, 3), groups=1))\n",
    "model3.add(BatchNormalization())\n",
    "model3.add(MaxPool2D(pool_size=(2,2), strides=(2,2)))\n",
    "\n",
    "model3.add(Conv2D(filters=64, kernel_size=(3,3), activation='relu', groups=1))\n",
    "model3.add(Dropout(0.1))\n",
    "model3.add(BatchNormalization())\n",
    "model3.add(MaxPool2D(pool_size=(2,2), strides=(2,2)))\n",
    "\n",
    "model3.add(Conv2D(filters=64, kernel_size=(3,3), activation='relu', groups=1))\n",
    "model3.add(BatchNormalization())\n",
    "model3.add(MaxPool2D(pool_size=(2,2), strides=(2,2)))\n",
    "\n",
    "model3.add(Conv2D(filters=128, kernel_size=(3,3), activation='relu', groups=1))\n",
    "model3.add(BatchNormalization())\n",
    "model3.add(MaxPool2D(pool_size=(2,2), strides=(2,2)))\n",
    "\n",
    "model3.add(Conv2D(filters=256, kernel_size=(3,3), activation='relu', groups=1))\n",
    "model3.add(Dropout(0.2))\n",
    "model3.add(BatchNormalization())\n",
    "model3.add(MaxPool2D(pool_size=(2,2), strides=(2,2)))\n",
    "\n",
    "model3.add(GlobalAveragePooling2D())\n",
    "model3.add(Dense(units=128, activation='relu', kernel_regularizer=L2(0.01)))\n",
    "model3.add(Dropout(0.2))\n",
    "model3.add(Dense(units=1, activation='sigmoid'))"
   ]
  },
  {
   "cell_type": "code",
   "execution_count": 71,
   "metadata": {},
   "outputs": [
    {
     "name": "stdout",
     "output_type": "stream",
     "text": [
      "Epoch 1/10\n",
      "315/315 [==============================] - 100s 318ms/step - loss: 0.8815 - accuracy: 0.8635 - val_loss: 6.0464 - val_accuracy: 0.5000\n",
      "Epoch 2/10\n",
      "315/315 [==============================] - ETA: 0s - loss: 0.3330 - accuracy: 0.8891\n",
      "Epoch 00002: ReduceLROnPlateau reducing learning rate to 0.00010000000474974513.\n",
      "315/315 [==============================] - 104s 329ms/step - loss: 0.3330 - accuracy: 0.8891 - val_loss: 4.8848 - val_accuracy: 0.5000\n",
      "Epoch 3/10\n",
      "315/315 [==============================] - 105s 334ms/step - loss: 0.2543 - accuracy: 0.9111 - val_loss: 0.7317 - val_accuracy: 0.6094\n",
      "Epoch 4/10\n",
      "315/315 [==============================] - 117s 371ms/step - loss: 0.2197 - accuracy: 0.9242 - val_loss: 0.2581 - val_accuracy: 0.9115\n",
      "Epoch 5/10\n",
      "315/315 [==============================] - 112s 354ms/step - loss: 0.2058 - accuracy: 0.9302 - val_loss: 0.3186 - val_accuracy: 0.9271\n",
      "Epoch 6/10\n",
      "315/315 [==============================] - ETA: 0s - loss: 0.2043 - accuracy: 0.9333\n",
      "Epoch 00006: ReduceLROnPlateau reducing learning rate to 1.0000000474974514e-05.\n",
      "315/315 [==============================] - 105s 335ms/step - loss: 0.2043 - accuracy: 0.9333 - val_loss: 0.5352 - val_accuracy: 0.7396\n",
      "Epoch 7/10\n",
      "315/315 [==============================] - ETA: 0s - loss: 0.1932 - accuracy: 0.9371\n",
      "Epoch 00007: ReduceLROnPlateau reducing learning rate to 1.0000000656873453e-06.\n",
      "315/315 [==============================] - 105s 333ms/step - loss: 0.1932 - accuracy: 0.9371 - val_loss: 0.2545 - val_accuracy: 0.9115\n",
      "Epoch 8/10\n",
      "315/315 [==============================] - ETA: 0s - loss: 0.1842 - accuracy: 0.9379\n",
      "Epoch 00008: ReduceLROnPlateau reducing learning rate to 1e-06.\n",
      "315/315 [==============================] - 101s 321ms/step - loss: 0.1842 - accuracy: 0.9379 - val_loss: 0.2931 - val_accuracy: 0.8854\n",
      "Epoch 9/10\n",
      "315/315 [==============================] - 98s 312ms/step - loss: 0.1824 - accuracy: 0.9401 - val_loss: 0.2802 - val_accuracy: 0.8958\n",
      "Epoch 10/10\n",
      "315/315 [==============================] - 100s 319ms/step - loss: 0.1910 - accuracy: 0.9375 - val_loss: 0.2813 - val_accuracy: 0.8958\n",
      "Epoch 00010: early stopping\n"
     ]
    }
   ],
   "source": [
    "optimizer = keras.optimizers.Adam(lr=0.001, clipnorm=1.0)\n",
    "reduce_lr = ReduceLROnPlateau(monitor='val_accuracy', factor=0.1, patience=1, min_lr=0.000001, verbose=1)\n",
    "early_stop = EarlyStopping(monitor='val_loss', patience=3, verbose=1)\n",
    "\n",
    "model3.compile(optimizer, loss='binary_crossentropy', metrics=['accuracy'])\n",
    "model3_hist = model3.fit(train_img, epochs=10, validation_data=val_img, steps_per_epoch= 5040/b_size, callbacks=[reduce_lr, early_stop])"
   ]
  },
  {
   "cell_type": "code",
   "execution_count": 73,
   "metadata": {},
   "outputs": [
    {
     "name": "stdout",
     "output_type": "stream",
     "text": [
      "39/39 [==============================] - 5s 141ms/step - loss: 0.3098 - accuracy: 0.8846\n"
     ]
    },
    {
     "data": {
      "text/plain": [
       "[0.3097585439682007, 0.8846153616905212]"
      ]
     },
     "execution_count": 73,
     "metadata": {},
     "output_type": "execute_result"
    }
   ],
   "source": [
    "model3.evaluate(test_img)"
   ]
  },
  {
   "cell_type": "code",
   "execution_count": 74,
   "metadata": {},
   "outputs": [
    {
     "data": {
      "text/plain": [
       "Text(0.5, 1.0, 'Model Loss')"
      ]
     },
     "execution_count": 74,
     "metadata": {},
     "output_type": "execute_result"
    },
    {
     "data": {
      "image/png": "[encoded data removed]",
      "text/plain": [
       "<Figure size 1008x576 with 2 Axes>"
      ]
     },
     "metadata": {
      "needs_background": "light"
     },
     "output_type": "display_data"
    }
   ],
   "source": [
    "fig, (ax1, ax2) = plt.subplots(ncols=2, figsize=(14, 8))\n",
    "ax1.plot(model3_hist.history['accuracy'])\n",
    "ax1.plot(model3_hist.history['val_accuracy'])\n",
    "ax1.set_ylabel('Accuracy')\n",
    "ax1.set_xlabel('Epochs')\n",
    "ax1.legend(['Accuracy', 'Val Accuracy'])\n",
    "ax1.set_title('Model Accuracy')\n",
    "\n",
    "ax2.plot(model3_hist.history['loss'])\n",
    "ax2.plot(model3_hist.history['val_loss'])\n",
    "ax2.set_ylabel('Loss')\n",
    "ax2.set_xlabel('Epochs')\n",
    "ax2.legend(['Loss', 'Val Loss'])\n",
    "ax2.set_title('Model Loss')"
   ]
  },
  {
   "cell_type": "markdown",
   "metadata": {},
   "source": [
    "# Model 4\n",
    "The accuracy and val accuracy are in line with one another, which means that there is no more overfitting. But the accuracy number itself is still under 90%, which is not ideal.\n",
    "\n",
    "Now that a wall has been hit with my own model, I will explore using other models that have already been trained and perform extremely well. First, starting with VGG16. It turns out that adam optimizer does not work well with VGG16 so we will use SGD.\n",
    "\n",
    "I will also try doubling the batch size since VGG takes such a long time to run"
   ]
  },
  {
   "cell_type": "code",
   "execution_count": null,
   "metadata": {},
   "outputs": [
    {
     "name": "stdout",
     "output_type": "stream",
     "text": [
      "Found 5040 images belonging to 2 classes.\n",
      "Found 192 images belonging to 2 classes.\n",
      "Found 624 images belonging to 2 classes.\n"
     ]
    }
   ],
   "source": [
    "#Change batch size depending on scenario\n",
    "b_size =  32\n",
    "\n",
    "train_data = ImageDataGenerator(rescale=1/255, rotation_range=40, zoom_range=0.4, horizontal_flip=True,\n",
    "                                width_shift_range=0.35, height_shift_range=0.35)\n",
    "train_img = train_data.flow_from_directory(directory='../data/train', target_size=(224,224), batch_size=b_size, class_mode='binary', shuffle=True)\n",
    "\n",
    "val_data = ImageDataGenerator(rescale=1/255)\n",
    "val_img = val_data.flow_from_directory(directory='../data/val', target_size=(224, 224), batch_size=b_size, class_mode='binary', shuffle=True)\n",
    "\n",
    "test_data = ImageDataGenerator(rescale=1/255)\n",
    "test_img = test_data.flow_from_directory(directory='../data/test', target_size=(224, 224), batch_size=b_size, class_mode='binary', shuffle=True)"
   ]
  },
  {
   "cell_type": "code",
   "execution_count": 26,
   "metadata": {},
   "outputs": [],
   "source": [
    "model4 = Sequential()\n",
    "model4.add(VGG16(include_top = False, input_shape=(224, 224, 3)))\n",
    "\n",
    "model4.add(Flatten())\n",
    "model4.add(Dense(64, activation='relu'))\n",
    "model4.add(Dense(1, activation='sigmoid'))\n",
    "\n",
    "optimizer = keras.optimizers.SGD(lr=0.0001, clipnorm=1.0)\n",
    "model4.compile(optimizer, loss='binary_crossentropy', metrics=['accuracy'])"
   ]
  },
  {
   "cell_type": "code",
   "execution_count": null,
   "metadata": {},
   "outputs": [
    {
     "name": "stdout",
     "output_type": "stream",
     "text": [
      "Epoch 1/5\n",
      "79/78 [==============================] - 1391s 18s/step - loss: 0.6629 - accuracy: 0.6008 - val_loss: 0.6933 - val_accuracy: 0.5000\n",
      "Epoch 2/5\n",
      "79/78 [==============================] - 1393s 18s/step - loss: 0.5598 - accuracy: 0.7514 - val_loss: 0.7417 - val_accuracy: 0.5000\n",
      "Epoch 3/5\n",
      "79/78 [==============================] - 1334s 17s/step - loss: 0.5371 - accuracy: 0.7514 - val_loss: 0.7204 - val_accuracy: 0.5000\n",
      "Epoch 4/5\n",
      "79/78 [==============================] - 1150s 15s/step - loss: 0.5171 - accuracy: 0.7514 - val_loss: 0.6799 - val_accuracy: 0.5000\n",
      "Epoch 5/5\n",
      "79/78 [==============================] - 1250s 16s/step - loss: 0.4995 - accuracy: 0.7516 - val_loss: 0.6394 - val_accuracy: 0.5052\n"
     ]
    }
   ],
   "source": [
    "model4_hist = model4.fit(train_img, epochs=10, validation_data=val_img, steps_per_epoch=5040/b_size)"
   ]
  },
  {
   "cell_type": "code",
   "execution_count": null,
   "metadata": {},
   "outputs": [],
   "source": []
  }
 ],
 "metadata": {
  "kernelspec": {
   "display_name": "Python (learn-env)",
   "language": "python",
   "name": "learn-env"
  },
  "language_info": {
   "codemirror_mode": {
    "name": "ipython",
    "version": 3
   },
   "file_extension": ".py",
   "mimetype": "text/x-python",
   "name": "python",
   "nbconvert_exporter": "python",
   "pygments_lexer": "ipython3",
   "version": "3.8.5"
  }
 },
 "nbformat": 4,
 "nbformat_minor": 2
}
