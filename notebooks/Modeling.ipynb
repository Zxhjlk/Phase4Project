{
 "cells": [
  {
   "cell_type": "markdown",
   "metadata": {},
   "source": []
  },
  {
   "cell_type": "code",
   "execution_count": 177,
   "metadata": {},
   "outputs": [],
   "source": [
    "import keras\n",
    "from keras.models import Sequential\n",
    "from keras.layers import Dense, Conv2D, MaxPool2D, Flatten, Dropout, BatchNormalization\n",
    "from keras.preprocessing.image import ImageDataGenerator\n",
    "from keras.callbacks import ModelCheckpoint, EarlyStopping, ReduceLROnPlateau\n",
    "from keras.utils import to_categorical\n",
    "from keras.applications.vgg16 import VGG16\n",
    "from keras.regularizers import L2\n",
    "import numpy as np\n",
    "import matplotlib.pyplot as plt\n",
    "import pandas as pd"
   ]
  },
  {
   "cell_type": "markdown",
   "metadata": {},
   "source": [
    "We will load all the images from the train, val, and test folders. With flow_from_directory, the images will have the labels attached so we do not need to specify the labels.\n",
    "\n",
    "I have also moved some of the train images into the val folder since there was a pretty large imbalance. There were only around 10 images in the validation set.\n",
    "\n",
    "I will also augment some of the images when we pull them in to prevent overfitting and potentially help more with the imbalance in the data"
   ]
  },
  {
   "cell_type": "code",
   "execution_count": null,
   "metadata": {},
   "outputs": [
    {
     "name": "stdout",
     "output_type": "stream",
     "text": [
      "Found 5040 images belonging to 2 classes.\n",
      "Found 192 images belonging to 2 classes.\n",
      "Found 624 images belonging to 2 classes.\n"
     ]
    }
   ],
   "source": [
    "#Change batch size depending on scenario\n",
    "b_size = 32 \n",
    "\n",
    "train_data = ImageDataGenerator(rescale=1/255, rotation_range=40, zoom_range=0.3, horizontal_flip=True,\n",
    "                                width_shift_range=0.25, height_shift_range=0.25)\n",
    "train_img = train_data.flow_from_directory(directory='../data/train', target_size=(224,224), batch_size=b_size, class_mode='binary', shuffle=True)\n",
    "#train_labels = to_categorical(train_img.labels, num_classes=2)\n",
    "\n",
    "val_data = ImageDataGenerator(rescale=1/255)\n",
    "val_img = val_data.flow_from_directory(directory='../data/val', target_size=(224, 224), batch_size=b_size, class_mode='binary', shuffle=True)\n",
    "#val_labels = to_categorical(val_img.labels, num_classes=2)\n",
    "\n",
    "test_data = ImageDataGenerator(rescale=1/255)\n",
    "test_img = test_data.flow_from_directory(directory='../data/test', target_size=(224, 224), batch_size=b_size, class_mode='binary', shuffle=True)\n",
    "#test_labels = to_categorical(test_img.labels, num_classes=2)"
   ]
  },
  {
   "cell_type": "markdown",
   "metadata": {},
   "source": [
    "# Model 1\n",
    "Here we will make a pretty shallow network to see how well it will work. Despite the images looking like grayscale, they are still 3 channel(rgb)."
   ]
  },
  {
   "cell_type": "code",
   "execution_count": 130,
   "metadata": {},
   "outputs": [],
   "source": [
    "model = Sequential()\n",
    "model.add(Conv2D(filters=32, kernel_size=(3,3), activation='relu', input_shape=(224, 224, 3), groups=1))\n",
    "model.add(BatchNormalization())\n",
    "model.add(MaxPool2D(pool_size=(2,2)))\n",
    "\n",
    "model.add(Conv2D(filters=64, kernel_size=(3,3), activation='relu', groups=1))\n",
    "model.add(BatchNormalization())\n",
    "model.add(MaxPool2D(pool_size=(2,2)))\n",
    "\n",
    "model.add(Conv2D(filters=64, kernel_size=(3,3), activation='relu', groups=1))\n",
    "model.add(BatchNormalization())\n",
    "model.add(MaxPool2D(pool_size=(2,2)))\n",
    "\n",
    "model.add(Flatten())\n",
    "model.add(Dense(units=128, activation='relu'))\n",
    "model.add(Dense(units=1, activation='sigmoid'))"
   ]
  },
  {
   "cell_type": "markdown",
   "metadata": {},
   "source": [
    "With this shallow network, we see that in each epoch, the model did not improve at all, with each accuracy, loss, etc being the exact same. This might mean the I may have messed up somewhere or the network is not deep enough and the model is making random gusses.\n",
    "\n",
    "After tinkering with the data, it seems that include 'class_mode=binary' in the flow from directory function caused the model to work properly. "
   ]
  },
  {
   "cell_type": "code",
   "execution_count": 132,
   "metadata": {},
   "outputs": [
    {
     "name": "stdout",
     "output_type": "stream",
     "text": [
      "Epoch 1/10\n",
      "150/150 [==============================] - 119s 796ms/step - loss: 0.6769 - accuracy: 0.8535 - val_loss: 30.8740 - val_accuracy: 0.5000\n",
      "Epoch 2/10\n",
      "150/150 [==============================] - 119s 793ms/step - loss: 0.2652 - accuracy: 0.8850 - val_loss: 27.1030 - val_accuracy: 0.5000\n",
      "Epoch 3/10\n",
      "150/150 [==============================] - 119s 791ms/step - loss: 0.2312 - accuracy: 0.9030 - val_loss: 4.2252 - val_accuracy: 0.6250\n",
      "Epoch 4/10\n",
      "150/150 [==============================] - 118s 788ms/step - loss: 0.2039 - accuracy: 0.9128 - val_loss: 0.4310 - val_accuracy: 0.8125\n",
      "Epoch 5/10\n",
      "150/150 [==============================] - 118s 786ms/step - loss: 0.2102 - accuracy: 0.9170 - val_loss: 1.3040 - val_accuracy: 0.5677\n",
      "Epoch 6/10\n",
      "150/150 [==============================] - 118s 787ms/step - loss: 0.1841 - accuracy: 0.9268 - val_loss: 0.6230 - val_accuracy: 0.6823\n",
      "Epoch 7/10\n",
      "150/150 [==============================] - 119s 790ms/step - loss: 0.1751 - accuracy: 0.9285 - val_loss: 1.8846 - val_accuracy: 0.5104\n",
      "Epoch 8/10\n",
      "150/150 [==============================] - 118s 787ms/step - loss: 0.1694 - accuracy: 0.9291 - val_loss: 0.5223 - val_accuracy: 0.7812\n",
      "Epoch 9/10\n",
      "150/150 [==============================] - 118s 789ms/step - loss: 0.1739 - accuracy: 0.9266 - val_loss: 0.3936 - val_accuracy: 0.7812\n",
      "Epoch 10/10\n",
      "150/150 [==============================] - 118s 789ms/step - loss: 0.1606 - accuracy: 0.9362 - val_loss: 0.8195 - val_accuracy: 0.6458\n"
     ]
    }
   ],
   "source": [
    "model.compile(optimizer='adam', loss='binary_crossentropy', metrics=['accuracy'])\n",
    "model_hist = model.fit(train_img, \n",
    "                       epochs=10, \n",
    "                       validation_data=val_img, \n",
    "                       steps_per_epoch=150)"
   ]
  },
  {
   "cell_type": "markdown",
   "metadata": {},
   "source": [
    "When we evaluate on the test set, we see that the accuracy is not too great, not even 70 percent"
   ]
  },
  {
   "cell_type": "code",
   "execution_count": 133,
   "metadata": {},
   "outputs": [
    {
     "name": "stdout",
     "output_type": "stream",
     "text": [
      "20/20 [==============================] - 5s 240ms/step - loss: 0.8962 - accuracy: 0.6619\n"
     ]
    },
    {
     "data": {
      "text/plain": [
       "[0.896195650100708, 0.6618589758872986]"
      ]
     },
     "execution_count": 133,
     "metadata": {},
     "output_type": "execute_result"
    }
   ],
   "source": [
    "model.evaluate(test_img)"
   ]
  },
  {
   "cell_type": "code",
   "execution_count": 141,
   "metadata": {},
   "outputs": [
    {
     "data": {
      "image/png": "[encoded data removed]",
      "text/plain": [
       "<Figure size 1008x576 with 2 Axes>"
      ]
     },
     "metadata": {
      "needs_background": "light"
     },
     "output_type": "display_data"
    }
   ],
   "source": [
    "fig, (ax1, ax2) = plt.subplots(ncols = 2, figsize=(14, 8))\n",
    "\n",
    "ax1.plot(model_hist.history['accuracy'])\n",
    "ax1.plot(model_hist.history['val_accuracy'])\n",
    "ax1.legend(['Accuracy', 'Val Accuracy'])\n",
    "ax1.set_title('Model Accuracy')\n",
    "ax1.set_ylabel('Accuracy')\n",
    "ax1.set_xlabel('Epoch')\n",
    "\n",
    "ax2.plot(model_hist.history['loss'])\n",
    "ax2.plot(model_hist.history['val_loss'])\n",
    "ax2.legend(['Loss', 'Val Loss'])\n",
    "ax2.set_title('Model Loss')\n",
    "ax2.set_ylabel('Loss')\n",
    "ax2.set_xlabel('Epoch');"
   ]
  },
  {
   "cell_type": "markdown",
   "metadata": {},
   "source": [
    "# Model 2\n",
    "We see from the graphs that the model is very sporadic. We will try to fix this and improve the test accuracy by adding deeper layers. We will also bath normalize and add dropout to the layers."
   ]
  },
  {
   "cell_type": "code",
   "execution_count": null,
   "metadata": {},
   "outputs": [],
   "source": [
    "#Change batch size depending on scenario\n",
    "b_size = 32 \n",
    "\n",
    "train_data = ImageDataGenerator(rescale=1/255, rotation_range=30, zoom_range=0.2, horizontal_flip=True,\n",
    "                                width_shift_range=0.2, height_shift_range=0.2)\n",
    "train_img = train_data.flow_from_directory(directory='../data/train', target_size=(224,224), batch_size=b_size, class_mode='binary', shuffle=True)\n",
    "\n",
    "val_data = ImageDataGenerator(rescale=1/255)\n",
    "val_img = val_data.flow_from_directory(directory='../data/val', target_size=(224, 224), batch_size=b_size, class_mode='binary', shuffle=True)\n",
    "\n",
    "test_data = ImageDataGenerator(rescale=1/255)\n",
    "test_img = test_data.flow_from_directory(directory='../data/test', target_size=(224, 224), batch_size=b_size, class_mode='binary', shuffle=True)"
   ]
  },
  {
   "cell_type": "code",
   "execution_count": 135,
   "metadata": {},
   "outputs": [],
   "source": [
    "model2 = Sequential()\n",
    "model2.add(Conv2D(filters=32, kernel_size=(3,3), activation='relu', input_shape=(224, 224, 3), groups=1))\n",
    "model2.add(BatchNormalization())\n",
    "model2.add(MaxPool2D(pool_size=(2,2), strides=(2,2)))\n",
    "\n",
    "model2.add(Conv2D(filters=64, kernel_size=(3,3), activation='relu', groups=1))\n",
    "model2.add(Dropout(0.2))\n",
    "model2.add(BatchNormalization())\n",
    "model2.add(MaxPool2D(pool_size=(2,2), strides=(2,2)))\n",
    "\n",
    "model2.add(Conv2D(filters=128, kernel_size=(3,3), activation='relu', groups=1))\n",
    "model2.add(Dropout(0.2))\n",
    "model2.add(BatchNormalization())\n",
    "model2.add(MaxPool2D(pool_size=(2,2), strides=(2,2)))\n",
    "\n",
    "model2.add(Conv2D(filters=256, kernel_size=(3,3), activation='relu', groups=1))\n",
    "model2.add(Dropout(0.2))\n",
    "model2.add(BatchNormalization())\n",
    "model2.add(MaxPool2D(pool_size=(2,2), strides=(2,2)))\n",
    "\n",
    "model2.add(Flatten())\n",
    "model2.add(Dense(units=128, activation='relu'))\n",
    "model2.add(Dropout(0.4))\n",
    "model2.add(Dense(units=1, activation='sigmoid'))"
   ]
  },
  {
   "cell_type": "code",
   "execution_count": 136,
   "metadata": {},
   "outputs": [
    {
     "name": "stdout",
     "output_type": "stream",
     "text": [
      "Model: \"sequential_31\"\n",
      "_________________________________________________________________\n",
      "Layer (type)                 Output Shape              Param #   \n",
      "=================================================================\n",
      "conv2d_126 (Conv2D)          (None, 222, 222, 32)      896       \n",
      "_________________________________________________________________\n",
      "batch_normalization_37 (Batc (None, 222, 222, 32)      128       \n",
      "_________________________________________________________________\n",
      "max_pooling2d_79 (MaxPooling (None, 111, 111, 32)      0         \n",
      "_________________________________________________________________\n",
      "conv2d_127 (Conv2D)          (None, 109, 109, 64)      18496     \n",
      "_________________________________________________________________\n",
      "dropout_21 (Dropout)         (None, 109, 109, 64)      0         \n",
      "_________________________________________________________________\n",
      "batch_normalization_38 (Batc (None, 109, 109, 64)      256       \n",
      "_________________________________________________________________\n",
      "max_pooling2d_80 (MaxPooling (None, 54, 54, 64)        0         \n",
      "_________________________________________________________________\n",
      "conv2d_128 (Conv2D)          (None, 52, 52, 128)       73856     \n",
      "_________________________________________________________________\n",
      "dropout_22 (Dropout)         (None, 52, 52, 128)       0         \n",
      "_________________________________________________________________\n",
      "batch_normalization_39 (Batc (None, 52, 52, 128)       512       \n",
      "_________________________________________________________________\n",
      "max_pooling2d_81 (MaxPooling (None, 26, 26, 128)       0         \n",
      "_________________________________________________________________\n",
      "conv2d_129 (Conv2D)          (None, 24, 24, 256)       295168    \n",
      "_________________________________________________________________\n",
      "dropout_23 (Dropout)         (None, 24, 24, 256)       0         \n",
      "_________________________________________________________________\n",
      "batch_normalization_40 (Batc (None, 24, 24, 256)       1024      \n",
      "_________________________________________________________________\n",
      "max_pooling2d_82 (MaxPooling (None, 12, 12, 256)       0         \n",
      "_________________________________________________________________\n",
      "flatten_27 (Flatten)         (None, 36864)             0         \n",
      "_________________________________________________________________\n",
      "dense_66 (Dense)             (None, 128)               4718720   \n",
      "_________________________________________________________________\n",
      "dropout_24 (Dropout)         (None, 128)               0         \n",
      "_________________________________________________________________\n",
      "dense_67 (Dense)             (None, 1)                 129       \n",
      "=================================================================\n",
      "Total params: 5,109,185\n",
      "Trainable params: 5,108,225\n",
      "Non-trainable params: 960\n",
      "_________________________________________________________________\n"
     ]
    }
   ],
   "source": [
    "model2.summary()"
   ]
  },
  {
   "cell_type": "markdown",
   "metadata": {},
   "source": [
    "We will monitor the accuracy and decrease learning rate if the accuracy plateaus"
   ]
  },
  {
   "cell_type": "code",
   "execution_count": 137,
   "metadata": {},
   "outputs": [
    {
     "name": "stdout",
     "output_type": "stream",
     "text": [
      "Epoch 1/10\n",
      "150/150 [==============================] - 161s 1s/step - loss: 0.3385 - accuracy: 0.8424 - val_loss: 10.7092 - val_accuracy: 0.5000\n",
      "Epoch 2/10\n",
      "150/150 [==============================] - 159s 1s/step - loss: 0.2479 - accuracy: 0.8871 - val_loss: 19.7878 - val_accuracy: 0.5000\n",
      "Epoch 3/10\n",
      "150/150 [==============================] - 159s 1s/step - loss: 0.2249 - accuracy: 0.9076 - val_loss: 14.2776 - val_accuracy: 0.5000\n",
      "Epoch 4/10\n",
      "150/150 [==============================] - 159s 1s/step - loss: 0.1881 - accuracy: 0.9231 - val_loss: 4.3011 - val_accuracy: 0.5000\n",
      "Epoch 5/10\n",
      "150/150 [==============================] - 160s 1s/step - loss: 0.1923 - accuracy: 0.9252 - val_loss: 0.7220 - val_accuracy: 0.7656\n",
      "Epoch 6/10\n",
      "150/150 [==============================] - 160s 1s/step - loss: 0.1806 - accuracy: 0.9287 - val_loss: 0.3871 - val_accuracy: 0.8802\n",
      "Epoch 7/10\n",
      "150/150 [==============================] - 160s 1s/step - loss: 0.1737 - accuracy: 0.9327 - val_loss: 0.2991 - val_accuracy: 0.8906\n",
      "Epoch 8/10\n",
      "150/150 [==============================] - 160s 1s/step - loss: 0.1608 - accuracy: 0.9388 - val_loss: 0.2598 - val_accuracy: 0.8854\n",
      "Epoch 9/10\n",
      "150/150 [==============================] - 160s 1s/step - loss: 0.1647 - accuracy: 0.9344 - val_loss: 0.3861 - val_accuracy: 0.8958\n",
      "Epoch 10/10\n",
      "150/150 [==============================] - 160s 1s/step - loss: 0.1609 - accuracy: 0.9413 - val_loss: 0.2654 - val_accuracy: 0.8906\n"
     ]
    }
   ],
   "source": [
    "optimizer = keras.optimizers.Adam(lr=0.0001)\n",
    "reduce_lr = ReduceLROnPlateau(monitor='val_accuracy', factor=0.2, patience=2, min_lr=0.000001)\n",
    "early_stop = EarlyStopping(monitor='val_accuracy', patience=10)\n",
    "\n",
    "model2.compile(optimizer, loss='binary_crossentropy', metrics=['accuracy'])\n",
    "model2_hist = model2.fit(train_img, epochs=10, validation_data=val_img, steps_per_epoch=150, callbacks=[reduce_lr, early_stop])"
   ]
  },
  {
   "cell_type": "code",
   "execution_count": 139,
   "metadata": {},
   "outputs": [
    {
     "name": "stdout",
     "output_type": "stream",
     "text": [
      "20/20 [==============================] - 5s 256ms/step - loss: 0.5119 - accuracy: 0.8574\n"
     ]
    },
    {
     "data": {
      "text/plain": [
       "[0.5119263529777527, 0.8573718070983887]"
      ]
     },
     "execution_count": 139,
     "metadata": {},
     "output_type": "execute_result"
    }
   ],
   "source": [
    "model2.evaluate(test_img)"
   ]
  },
  {
   "cell_type": "markdown",
   "metadata": {},
   "source": [
    "Here we can see that the model has improved in accuracy a fair amount, but still lacking. We can plot and see how it performed over the epochs."
   ]
  },
  {
   "cell_type": "code",
   "execution_count": 140,
   "metadata": {},
   "outputs": [
    {
     "data": {
      "text/plain": [
       "Text(0.5, 1.0, 'Model Loss')"
      ]
     },
     "execution_count": 140,
     "metadata": {},
     "output_type": "execute_result"
    },
    {
     "data": {
      "image/png": "[encoded data removed]",
      "text/plain": [
       "<Figure size 1008x576 with 2 Axes>"
      ]
     },
     "metadata": {
      "needs_background": "light"
     },
     "output_type": "display_data"
    }
   ],
   "source": [
    "fig, (ax1, ax2) = plt.subplots(ncols=2, figsize=(14, 8))\n",
    "ax1.plot(model2_hist.history['accuracy'])\n",
    "ax1.plot(model2_hist.history['val_accuracy'])\n",
    "ax1.set_ylabel('Accuracy')\n",
    "ax1.set_xlabel('Epochs')\n",
    "ax1.legend(['Accuracy', 'Val Accuracy'])\n",
    "ax1.set_title('Model Accuracy')\n",
    "\n",
    "ax2.plot(model2_hist.history['loss'])\n",
    "ax2.plot(model2_hist.history['val_loss'])\n",
    "ax2.set_ylabel('Loss')\n",
    "ax2.set_xlabel('Epochs')\n",
    "ax2.legend(['Loss', 'Val Loss'])\n",
    "ax2.set_title('Model Loss')"
   ]
  },
  {
   "cell_type": "markdown",
   "metadata": {},
   "source": [
    "# Model 3\n",
    "While the performance has increased, we can see there is still some overfitting. It is also not quite clear why the validation accuracy is stagnant for the first 3 epochs, and the validation loss skyrockets during the first 1-2 epochs. \n",
    "\n",
    "What I will try next is to add more regularization and more data augmentation to help with overfitting."
   ]
  },
  {
   "cell_type": "code",
   "execution_count": 171,
   "metadata": {},
   "outputs": [
    {
     "name": "stdout",
     "output_type": "stream",
     "text": [
      "Found 5040 images belonging to 2 classes.\n",
      "Found 192 images belonging to 2 classes.\n",
      "Found 624 images belonging to 2 classes.\n"
     ]
    }
   ],
   "source": [
    "#Change batch size depending on scenario\n",
    "b_size =  24\n",
    "\n",
    "train_data = ImageDataGenerator(rescale=1/255, rotation_range=40, zoom_range=0.3, horizontal_flip=True,\n",
    "                                width_shift_range=0.3, height_shift_range=0.3)\n",
    "train_img = train_data.flow_from_directory(directory='../data/train', target_size=(224,224), batch_size=b_size, class_mode='binary', shuffle=True)\n",
    "\n",
    "val_data = ImageDataGenerator(rescale=1/255)\n",
    "val_img = val_data.flow_from_directory(directory='../data/val', target_size=(224, 224), batch_size=b_size, class_mode='binary', shuffle=True)\n",
    "\n",
    "test_data = ImageDataGenerator(rescale=1/255)\n",
    "test_img = test_data.flow_from_directory(directory='../data/test', target_size=(224, 224), batch_size=b_size, class_mode='binary', shuffle=True)"
   ]
  },
  {
   "cell_type": "code",
   "execution_count": 172,
   "metadata": {},
   "outputs": [],
   "source": [
    "model3 = Sequential()\n",
    "model3.add(Conv2D(filters=16, kernel_size=(3,3), activation='relu', input_shape=(224, 224, 3), groups=1))\n",
    "model3.add(BatchNormalization())\n",
    "model3.add(MaxPool2D(pool_size=(2,2), strides=(2,2)))\n",
    "\n",
    "model3.add(Conv2D(filters=32, kernel_size=(3,3), activation='relu', groups=1))\n",
    "model3.add(Dropout(0.2))\n",
    "model3.add(BatchNormalization())\n",
    "model3.add(MaxPool2D(pool_size=(2,2), strides=(2,2)))\n",
    "\n",
    "model3.add(Conv2D(filters=64, kernel_size=(3,3), activation='relu', groups=1))\n",
    "model3.add(BatchNormalization())\n",
    "model3.add(MaxPool2D(pool_size=(2,2), strides=(2,2)))\n",
    "\n",
    "model3.add(Conv2D(filters=128, kernel_size=(3,3), activation='relu', groups=1))\n",
    "model3.add(Dropout(0.2))\n",
    "model3.add(BatchNormalization())\n",
    "model3.add(MaxPool2D(pool_size=(2,2), strides=(2,2)))\n",
    "\n",
    "model3.add(Flatten())\n",
    "model3.add(Dropout(0.6))\n",
    "model3.add(Dense(units=64, activation='relu', kernel_regularizer=L2(0.001)))\n",
    "model3.add(Dense(units=1, activation='sigmoid'))"
   ]
  },
  {
   "cell_type": "code",
   "execution_count": 173,
   "metadata": {},
   "outputs": [
    {
     "name": "stdout",
     "output_type": "stream",
     "text": [
      "Epoch 1/10\n",
      "210/210 [==============================] - 98s 467ms/step - loss: 0.5484 - accuracy: 0.8312 - val_loss: 12.1294 - val_accuracy: 0.5000\n",
      "Epoch 2/10\n",
      "210/210 [==============================] - 97s 464ms/step - loss: 0.4293 - accuracy: 0.8679 - val_loss: 10.9338 - val_accuracy: 0.5000\n",
      "Epoch 3/10\n",
      "210/210 [==============================] - 98s 464ms/step - loss: 0.3981 - accuracy: 0.8873 - val_loss: 2.3275 - val_accuracy: 0.5000\n",
      "Epoch 4/10\n",
      "210/210 [==============================] - 97s 464ms/step - loss: 0.3811 - accuracy: 0.8933 - val_loss: 0.5063 - val_accuracy: 0.9062\n",
      "Epoch 5/10\n",
      "210/210 [==============================] - 98s 466ms/step - loss: 0.3792 - accuracy: 0.8901 - val_loss: 0.4708 - val_accuracy: 0.9062\n",
      "Epoch 6/10\n",
      "210/210 [==============================] - 98s 466ms/step - loss: 0.3771 - accuracy: 0.8921 - val_loss: 0.4839 - val_accuracy: 0.9115\n",
      "Epoch 7/10\n",
      "210/210 [==============================] - 101s 480ms/step - loss: 0.3710 - accuracy: 0.8917 - val_loss: 0.4410 - val_accuracy: 0.8906\n",
      "Epoch 8/10\n",
      "210/210 [==============================] - 99s 471ms/step - loss: 0.3684 - accuracy: 0.8990 - val_loss: 0.4282 - val_accuracy: 0.8802\n",
      "Epoch 9/10\n",
      "210/210 [==============================] - 101s 479ms/step - loss: 0.3624 - accuracy: 0.8966 - val_loss: 0.4336 - val_accuracy: 0.8906\n",
      "Epoch 10/10\n",
      "210/210 [==============================] - 101s 482ms/step - loss: 0.3631 - accuracy: 0.8940 - val_loss: 0.4336 - val_accuracy: 0.8906\n"
     ]
    }
   ],
   "source": [
    "optimizer = keras.optimizers.Adam(lr=0.0001, clipnorm=1.0)\n",
    "reduce_lr = ReduceLROnPlateau(monitor='val_accuracy', factor=0.1, patience=2, min_lr=0.000001)\n",
    "early_stop = EarlyStopping(monitor='val_loss', patience=4)\n",
    "\n",
    "model3.compile(optimizer, loss='binary_crossentropy', metrics=['accuracy'])\n",
    "model3_hist = model3.fit(train_img, epochs=10, validation_data=val_img, steps_per_epoch= 5040/b_size, callbacks=[reduce_lr, early_stop])"
   ]
  },
  {
   "cell_type": "code",
   "execution_count": 174,
   "metadata": {},
   "outputs": [
    {
     "name": "stdout",
     "output_type": "stream",
     "text": [
      "26/26 [==============================] - 4s 166ms/step - loss: 0.5258 - accuracy: 0.8670\n"
     ]
    },
    {
     "data": {
      "text/plain": [
       "[0.5258132815361023, 0.8669871687889099]"
      ]
     },
     "execution_count": 174,
     "metadata": {},
     "output_type": "execute_result"
    }
   ],
   "source": [
    "model3.evaluate(test_img)"
   ]
  },
  {
   "cell_type": "code",
   "execution_count": 175,
   "metadata": {},
   "outputs": [
    {
     "data": {
      "text/plain": [
       "Text(0.5, 1.0, 'Model Loss')"
      ]
     },
     "execution_count": 175,
     "metadata": {},
     "output_type": "execute_result"
    },
    {
     "data": {
      "image/png": "[encoded data removed]",
      "text/plain": [
       "<Figure size 1008x576 with 2 Axes>"
      ]
     },
     "metadata": {
      "needs_background": "light"
     },
     "output_type": "display_data"
    }
   ],
   "source": [
    "fig, (ax1, ax2) = plt.subplots(ncols=2, figsize=(14, 8))\n",
    "ax1.plot(model3_hist.history['accuracy'])\n",
    "ax1.plot(model3_hist.history['val_accuracy'])\n",
    "ax1.set_ylabel('Accuracy')\n",
    "ax1.set_xlabel('Epochs')\n",
    "ax1.legend(['Accuracy', 'Val Accuracy'])\n",
    "ax1.set_title('Model Accuracy')\n",
    "\n",
    "ax2.plot(model3_hist.history['loss'])\n",
    "ax2.plot(model3_hist.history['val_loss'])\n",
    "ax2.set_ylabel('Loss')\n",
    "ax2.set_xlabel('Epochs')\n",
    "ax2.legend(['Loss', 'Val Loss'])\n",
    "ax2.set_title('Model Loss')"
   ]
  },
  {
   "cell_type": "markdown",
   "metadata": {},
   "source": [
    "# Model 4\n",
    "The accuracy and val accuracy are in line with one another, which means that there is no more overfitting. But the accuracy number itself is still under 90%, which is not ideal.\n",
    "\n",
    "Now that a wall has been hit with my own model, I will explore using other models that have already been trained and perform extremely well. First, starting with VGG16. It turns out that adam optimizer does not work well with VGG16 so we will use SGD."
   ]
  },
  {
   "cell_type": "code",
   "execution_count": 184,
   "metadata": {},
   "outputs": [],
   "source": [
    "model4 = Sequential()\n",
    "model4.add(VGG16(include_top = False, input_shape=(224, 224, 3)))\n",
    "\n",
    "model4.add(Flatten())\n",
    "model4.add(Dense(64, activation='relu'))\n",
    "model4.add(Dense(1, activation='sigmoid'))\n",
    "\n",
    "optimizer = keras.optimizers.SGD(lr=0.0001, clipnorm=1.0)\n",
    "model4.compile(optimizer, loss='binary_crossentropy', metrics=['accuracy'])"
   ]
  },
  {
   "cell_type": "code",
   "execution_count": 185,
   "metadata": {},
   "outputs": [
    {
     "name": "stdout",
     "output_type": "stream",
     "text": [
      "Epoch 1/2\n",
      "210/210 [==============================] - 1523s 7s/step - loss: 0.5530 - accuracy: 0.7504\n",
      "Epoch 2/2\n",
      "210/210 [==============================] - 1539s 7s/step - loss: 0.5054 - accuracy: 0.7530\n"
     ]
    }
   ],
   "source": [
    "model4_hist = model4.fit(train_img, epochs=2, steps_per_epoch=5040/b_size)"
   ]
  },
  {
   "cell_type": "code",
   "execution_count": null,
   "metadata": {},
   "outputs": [],
   "source": []
  }
 ],
 "metadata": {
  "kernelspec": {
   "display_name": "learn-env",
   "language": "python",
   "name": "python3"
  },
  "language_info": {
   "codemirror_mode": {
    "name": "ipython",
    "version": 3
   },
   "file_extension": ".py",
   "mimetype": "text/x-python",
   "name": "python",
   "nbconvert_exporter": "python",
   "pygments_lexer": "ipython3",
   "version": "3.8.5"
  }
 },
 "nbformat": 4,
 "nbformat_minor": 2
}
